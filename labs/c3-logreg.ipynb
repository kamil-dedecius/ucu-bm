{
 "cells": [
  {
   "cell_type": "code",
   "execution_count": 9,
   "metadata": {},
   "outputs": [],
   "source": [
    "import numpy as np\n",
    "import matplotlib.pylab as plt\n",
    "from pandas_ml import ConfusionMatrix\n",
    "import sys\n",
    "sys.path.insert(0, '../zdrojaky/logreg')\n",
    "from logreg import LogReg"
   ]
  },
  {
   "cell_type": "markdown",
   "metadata": {},
   "source": [
    "# Logistic regression\n",
    "\n",
    "The example considers the Skin-NonSkin dataset of Bhatt and Dhall. It consists of 245,057 samples of which 50,859 are skin samples and 194,198 are non-skin samples. The dataset was collected by randomly sampling RGB values from face images of various age groups (young, middle, and old), race groups (white, black, and Asian), and gender. The samples were obtained from the FERET and PAL databases. Each data item consists of four variables -- B, G, R and the class label.\n",
    "\n",
    "Three randomly chosen rows:\n",
    "\n",
    "    ---\n",
    "    B, G, R, Class\n",
    "    242, 169, 161,   2\n",
    "    218, 211, 202,   2\n",
    "    110, 150, 209,   1\n",
    "    ---\n",
    "    \n",
    "**We will use the regressor $x_t = [1, B_t, G_t, R_t]$, normal prior $\\mathcal{N}$(**_0_**, 100**_I_**) and the threshold _m_=0.5.**"
   ]
  },
  {
   "cell_type": "markdown",
   "metadata": {},
   "source": [
    "First, we load data. As they are ordered, we need to shuffle them."
   ]
  },
  {
   "cell_type": "code",
   "execution_count": 10,
   "metadata": {},
   "outputs": [
    {
     "name": "stdout",
     "output_type": "stream",
     "text": [
      "[[ 242.  169.  161.    2.]\n",
      " [ 218.  211.  202.    2.]\n",
      " [ 110.  150.  209.    1.]]\n"
     ]
    }
   ],
   "source": [
    "np.random.seed(1234)\n",
    "ndat = 1000\n",
    "\n",
    "fn = 'Skin_NonSkin.txt'\n",
    "data = np.loadtxt(fn)\n",
    "np.random.shuffle(data)\n",
    "\n",
    "print(data[:3])"
   ]
  },
  {
   "cell_type": "markdown",
   "metadata": {},
   "source": [
    "Note the classes are 1 a 2 (Skin a NonSkin). \n",
    "\n",
    "\n",
    "**Task 1: Modify the classes to be 0 and 1.**\n",
    "\n",
    "\n",
    "**Task 2: Prepare regressors (X) and measurements (y).**"
   ]
  },
  {
   "cell_type": "code",
   "execution_count": 11,
   "metadata": {},
   "outputs": [],
   "source": [
    "XXXXX\n",
    "XXXXX\n",
    "\n",
    "X = \n",
    "y = "
   ]
  },
  {
   "cell_type": "markdown",
   "metadata": {},
   "source": [
    "We start with the prior $\\mathcal{N}([0, 0, 0, 0], 100I_{4\\times 4}).$"
   ]
  },
  {
   "cell_type": "code",
   "execution_count": 12,
   "metadata": {},
   "outputs": [],
   "source": [
    "#%% Prior\n",
    "mean = np.zeros(X.shape[-1])\n",
    "Sigma = np.eye(X.shape[-1]) * 100.\n",
    "prior = LogReg(mean=mean, Sigma=Sigma)"
   ]
  },
  {
   "cell_type": "markdown",
   "metadata": {},
   "source": [
    "Estimation: we update by one regressor and one measurements sequentially (Skin-NonSkin)"
   ]
  },
  {
   "cell_type": "code",
   "execution_count": 13,
   "metadata": {},
   "outputs": [],
   "source": [
    "#%% Estimation\n",
    "for xt, yt in zip(X, y):\n",
    "    prior.update(yt, xt)\n",
    "    prior.log()\n",
    "    "
   ]
  },
  {
   "cell_type": "markdown",
   "metadata": {},
   "source": [
    "Let us see the Brier score evolution."
   ]
  },
  {
   "cell_type": "code",
   "execution_count": 14,
   "metadata": {},
   "outputs": [
    {
     "data": {
      "text/plain": [
       "<matplotlib.text.Text at 0x7f1934d35668>"
      ]
     },
     "execution_count": 14,
     "metadata": {},
     "output_type": "execute_result"
    },
    {
     "data": {
      "image/png": "[encoded data removed]",
      "text/plain": [
       "<matplotlib.figure.Figure at 0x7f19349b8f98>"
      ]
     },
     "metadata": {},
     "output_type": "display_data"
    }
   ],
   "source": [
    "plt.figure(figsize=(8, 4))\n",
    "plt.plot(prior.brier_score_log)\n",
    "plt.xlabel('t')\n",
    "plt.ylabel('Brier score')"
   ]
  },
  {
   "cell_type": "markdown",
   "metadata": {},
   "source": [
    "Finally, we calculate the confusion matrix."
   ]
  },
  {
   "cell_type": "code",
   "execution_count": 15,
   "metadata": {},
   "outputs": [
    {
     "name": "stdout",
     "output_type": "stream",
     "text": [
      "population: 1000\n",
      "P: 770\n",
      "N: 230\n",
      "PositiveTest: 761\n",
      "NegativeTest: 239\n",
      "TP: 719\n",
      "TN: 188\n",
      "FP: 42\n",
      "FN: 51\n",
      "TPR: 0.933766233766\n",
      "TNR: 0.817391304348\n",
      "PPV: 0.944809461235\n",
      "NPV: 0.786610878661\n",
      "FPR: 0.182608695652\n",
      "FDR: 0.0551905387648\n",
      "FNR: 0.0662337662338\n",
      "ACC: 0.907\n",
      "F1_score: 0.939255388635\n",
      "MCC: 0.741223246966\n",
      "informedness: 0.751157538114\n",
      "markedness: 0.731420339896\n",
      "prevalence: 0.77\n",
      "LRP: 5.11348175634\n",
      "LRN: 0.0810306714562\n",
      "DOR: 63.1055088702\n",
      "FOR: 0.213389121339\n"
     ]
    }
   ],
   "source": [
    "#%% Confusion matrix\n",
    "CM = ConfusionMatrix(prior.true_vals, prior.binary_preds)\n",
    "CM.print_stats()"
   ]
  }
 ],
 "metadata": {
  "kernelspec": {
   "display_name": "Python 3",
   "language": "python",
   "name": "python3"
  },
  "language_info": {
   "codemirror_mode": {
    "name": "ipython",
    "version": 3
   },
   "file_extension": ".py",
   "mimetype": "text/x-python",
   "name": "python",
   "nbconvert_exporter": "python",
   "pygments_lexer": "ipython3",
   "version": "3.6.5"
  }
 },
 "nbformat": 4,
 "nbformat_minor": 2
}
