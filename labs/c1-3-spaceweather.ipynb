{
 "cells": [
  {
   "cell_type": "markdown",
   "metadata": {},
   "source": [
    "# Space weather prediction\n",
    "\n",
    "Space weather is a branch of space physics and aeronomy concerned with the time varying conditions within the Solar System, including the [solar wind](https://en.wikipedia.org/wiki/Solar_wind), emphasizing the space surrounding the Earth, including conditions in the magnetosphere, ionosphere, thermosphere, and exosphere. [Wikipedia]\n",
    "\n",
    "We will be interested in the solar wind. It is monitored by the GOES satellites, currently GOES 14 and 15:\n",
    "![GOES 14-15](goes_14-15.jpg)\n",
    "\n",
    "They measure the solar particles flux, and the measurements are available on NOAA website: [current](https://www.swpc.noaa.gov/products/goes-electron-flux) and [historical measurements](ftp://ftp.swpc.noaa.gov/pub/lists/particle/) on https://www.swpc.noaa.gov/.\n",
    "\n",
    "![GOES electron flux](20180224_electron.gif)"
   ]
  },
  {
   "cell_type": "markdown",
   "metadata": {},
   "source": [
    "One of possible options how to effectively model a variable without any suitable regressors is to exploit the [**autoregresive models**](https://en.wikipedia.org/wiki/Autoregressive_model) of pth order,\n",
    "\n",
    "$$\n",
    "y_t = \\beta_0 + \\beta_1 y_{t-1} + ... = \\beta_p y_{t-p} + \\varepsilon_t = \\beta^\\intercal x_t + \\varepsilon_t,\n",
    "$$\n",
    "\n",
    "where $x_t = [1, y_{t-1}, \\ldots, y_{t-p}]^{\\intercal}$. We assume the noise $\\varepsilon_t$ to be iid normal.\n",
    "\n",
    "We will use a simplified approach to AR models. In general, the theory is much richer.\n",
    "\n",
    "Now, let us try to construct an AR(1) model. In addition, it is important to admit that the reality (particle flux) varies in time, but the ordinary Bayesian modelling assumes constant parameters. A popular heuristic workaround is to flatten the prior density before incorporation of new data. This flattening - called **forgetting** - increases the uncertainty about the variable of interest. The most simple algorithm - **exponential forgetting** - simply uses an exponentiation of the density,\n",
    "\n",
    "$$\n",
    "\\left[\\pi(\\beta, \\sigma^2|x_{0:t}, y_{0:t})\\right]^\\lambda, \\qquad \\lambda\\in[0.95, 1],\n",
    "$$\n",
    "\n",
    "which, under conjugate priors, is equivalent to\n",
    "\n",
    "$$\n",
    "\\xi_{t-1} \\leftarrow \\lambda \\xi_{t-1}, \\qquad \\nu_{t-1} \\leftarrow \\lambda\\nu_{t-1}.\n",
    "$$"
   ]
  },
  {
   "cell_type": "markdown",
   "metadata": {},
   "source": [
    "# Data set\n",
    "    :Data_list: 20180225_Gp_part_5m.txt\n",
    "    :Created: 2018 Feb 25 1536 UTC\n",
    "    # Prepared by the U.S. Dept. of Commerce, NOAA, Space Weather Prediction Center\n",
    "    # Please send comments and suggestions to SWPC.Webmaster@noaa.gov \n",
    "    # \n",
    "    # Label: P > 1 = Particles at >1 Mev\n",
    "    # Label: P > 5 = Particles at >5 Mev\n",
    "    # Label: P >10 = Particles at >10 Mev\n",
    "    # Label: P >30 = Particles at >30 Mev\n",
    "    # Label: P >50 = Particles at >50 Mev\n",
    "    # Label: P>100 = Particles at >100 Mev\n",
    "    # Label: E>0.8 = Electrons at >0.8 Mev\n",
    "    # Label: E>2.0 = Electrons at >2.0 Mev\n",
    "    # Label: E>4.0 = Electrons at >4.0 Mev\n",
    "    # Units: Particles = Protons/cm2-s-sr\n",
    "    # Units: Electrons = Electrons/cm2-s-sr\n",
    "    # Source: GOES-15\n",
    "    # Location: W135\n",
    "    # Missing data: -1.00e+05\n",
    "    #\n",
    "    #                      5-minute  GOES-15 Solar Particle and Electron Flux\n",
    "    #\n",
    "    #                 Modified Seconds\n",
    "    # UTC Date  Time   Julian  of the\n",
    "    # YR MO DA  HHMM    Day     Day     P > 1     P > 5     P >10     P >30     P >50     P>100     E>0.8     E>2.0     E>4.0\n",
    "     #-------------------------------------------------------------------------------------------------------------------------\n",
    "    2018 02 25  0000   58174      0   5.65e+00  1.61e-01  1.26e-01  6.80e-02  5.50e-02  2.82e-02  6.53e+04  1.58e+03 -1.00e+05\n",
    "    2018 02 25  0005   58174    300   6.13e+00  2.19e-01  1.53e-01  8.97e-02  7.67e-02  4.99e-02  6.53e+04  1.57e+03 -1.00e+05\n",
    "    2018 02 25  0010   58174    600   5.24e+00  2.21e-01  1.86e-01  1.28e-01  1.15e-01  4.75e-02  6.53e+04  1.54e+03 -1.00e+05\n",
    "    2018 02 25  0015   58174    900   7.44e+00  2.56e-01  1.40e-01  6.80e-02  5.50e-02  2.82e-02  6.46e+04  1.50e+03 -1.00e+05\n",
    "    2018 02 25  0020   58174   1200   5.25e+00  3.48e-01  3.12e-01  1.36e-01  1.02e-01  4.14e-02  6.37e+04  1.49e+03 -1.00e+05\n",
    "    2018 02 25  0025   58174   1500   6.91e+00  2.82e-01  1.70e-01  9.89e-02  8.60e-02  5.91e-02  6.35e+04  1.48e+03 -1.00e+05\n",
    "    2018 02 25  0030   58174   1800   4.80e+00  1.90e-01  1.54e-01  9.66e-02  8.37e-02  3.74e-02  6.26e+04  1.45e+03 -1.00e+05"
   ]
  },
  {
   "cell_type": "markdown",
   "metadata": {},
   "source": [
    "Let us try modelling of E>2, i.e., electrons with the energy larger than 2MeV. The AR(1) model\n",
    "\n",
    "$$\n",
    "y_t = \\beta_0 + \\beta_1 y_{t-1} + \\varepsilon_t, \\qquad \\text{iid}\\quad \\varepsilon_t \\sim\\mathcal{N}(0, \\sigma^2).\n",
    "$$\n",
    "\n",
    "Again, we use the NiG prior and are interested in predictions."
   ]
  },
  {
   "cell_type": "code",
   "execution_count": 1,
   "metadata": {},
   "outputs": [],
   "source": [
    "import sys\n",
    "sys.path.insert(0, '../zdrojaky/')\n",
    "\n",
    "import numpy as np\n",
    "import matplotlib.pylab as plt\n",
    "from nig import NiG"
   ]
  },
  {
   "cell_type": "markdown",
   "metadata": {},
   "source": [
    "We load the data file. Note that it is similar to CSV (comma separated values) files, but the delimiters are spaces. We can use _np.genfromtxt()_. We skip the preamble (26 rows)."
   ]
  },
  {
   "cell_type": "code",
   "execution_count": 2,
   "metadata": {},
   "outputs": [],
   "source": [
    "#file = 'ftp://ftp.swpc.noaa.gov/pub/lists/particle/20180224_Gs_part_5m.txt'\n",
    "datafile = '20180224_Gs_part_5m.txt'\n",
    "data = np.genfromtxt(datafile, skip_header=26)\n",
    "e2 = data[:,13]\n",
    "ndat = e2.size"
   ]
  },
  {
   "cell_type": "markdown",
   "metadata": {},
   "source": [
    "Let us define the prior hyperparameters and the forgetting factor *forg_factor*. Its value is usually between 0.95 and 1, where 0.95 is considered very low."
   ]
  },
  {
   "cell_type": "code",
   "execution_count": null,
   "metadata": {},
   "outputs": [],
   "source": [
    "xi0 = np.diag([1000, .1, .1])\n",
    "nu0 = 5.\n",
    "regmodel = NiG(xi0, nu0)\n",
    "\n",
    "forg_factor = .95"
   ]
  },
  {
   "cell_type": "markdown",
   "metadata": {},
   "source": [
    "Now we calculate predictions. The estimates $\\hat{\\beta}$ are in regmodel.Ebeta."
   ]
  },
  {
   "cell_type": "code",
   "execution_count": 3,
   "metadata": {},
   "outputs": [
    {
     "ename": "SyntaxError",
     "evalue": "invalid syntax (<ipython-input-3-6dc444dca5bd>, line 6)",
     "output_type": "error",
     "traceback": [
      "\u001b[0;36m  File \u001b[0;32m\"<ipython-input-3-6dc444dca5bd>\"\u001b[0;36m, line \u001b[0;32m6\u001b[0m\n\u001b[0;31m    xt = np.array([***, e2[***]])\u001b[0m\n\u001b[0m                    ^\u001b[0m\n\u001b[0;31mSyntaxError\u001b[0m\u001b[0;31m:\u001b[0m invalid syntax\n"
     ]
    }
   ],
   "source": [
    "yt_pred = np.zeros(ndat)                        # here we save the predictions\n",
    "\n",
    "for t in range(2, ndat):\n",
    "    #####################################\n",
    "    # enter regressor\n",
    "    xt = np.array([***, e2[***]])\n",
    "    #####################################\n",
    "    yt = e2[t]\n",
    "   \n",
    "    #####################################\n",
    "    # calculate predictions\n",
    "    yt_pred[t] =\n",
    "    #####################################\n",
    "    \n",
    "    # forgetting\n",
    "    regmodel.xi *= forg_factor\n",
    "    regmodel.nu *= forg_factor\n",
    "    \n",
    "    # update\n",
    "    regmodel.update(yt, xt)\n",
    "    regmodel.log()"
   ]
  },
  {
   "cell_type": "markdown",
   "metadata": {},
   "source": [
    "We are interested only in $\\hat{\\beta}$ and predictions $\\hat{y}_t$ including the prediction quality. It is often measured by RMSE (root mean squarred error):\n",
    "\n",
    "$$\n",
    "RMSE = \\sqrt{MSE} = \\sqrt{\\frac{1}{T}\\sum_{t=1}^{T}(\\hat{y}_t - y_t)^2}.\n",
    "$$\n",
    "\n",
    "Note that we need to skip as much data, as we needed for starting with modelling (it was not possible to start with the first measurement!).\n",
    "\n",
    "Let us plot the true evolution and predictions, and the histogram and box plots of errors."
   ]
  },
  {
   "cell_type": "code",
   "execution_count": null,
   "metadata": {},
   "outputs": [],
   "source": [
    "errors = e2[2:] - yt_pred[2:]\n",
    "\n",
    "#####################################\n",
    "# Calculate RMSE here\n",
    "RMSE = \n",
    "#####################################\n",
    "print('RMSE: ', RMSE)\n",
    "\n",
    "plt.figure(figsize=(15, 3))\n",
    "plt.plot(e2)\n",
    "plt.plot(yt_pred, '+')\n",
    "\n",
    "plt.figure(figsize=(15,3))\n",
    "plt.subplot(1,2,1)\n",
    "plt.hist(errors, bins=100)\n",
    "plt.subplot(1,2,2)\n",
    "plt.boxplot(errors, showfliers=False)\n",
    "plt.show()"
   ]
  },
  {
   "cell_type": "markdown",
   "metadata": {},
   "source": [
    "Evolution of $\\hat{\\beta}$:"
   ]
  },
  {
   "cell_type": "code",
   "execution_count": null,
   "metadata": {},
   "outputs": [],
   "source": [
    "Ebeta_log = np.array(regmodel.Ebeta_log)\n",
    "plt.figure(figsize=(15, 5))\n",
    "plt.subplot(3, 1, 1)\n",
    "plt.plot(Ebeta_log[:,0])\n",
    "plt.subplot(3, 1, 2)\n",
    "plt.plot(Ebeta_log[:,1])\n",
    "plt.show()"
   ]
  }
 ],
 "metadata": {
  "kernelspec": {
   "display_name": "Python 3",
   "language": "python",
   "name": "python3"
  },
  "language_info": {
   "codemirror_mode": {
    "name": "ipython",
    "version": 3
   },
   "file_extension": ".py",
   "mimetype": "text/x-python",
   "name": "python",
   "nbconvert_exporter": "python",
   "pygments_lexer": "ipython3",
   "version": "3.6.5"
  }
 },
 "nbformat": 4,
 "nbformat_minor": 2
}
