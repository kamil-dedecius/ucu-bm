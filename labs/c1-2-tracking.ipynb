{
 "cells": [
  {
   "cell_type": "markdown",
   "metadata": {},
   "source": [
    "# Tracking of object height (altitude)\n",
    "\n",
    "In this task, we will track the height of a climbing accelerating object. Denote the acceleration by $a$, the initial velocity $v_0$ and the initial height by $y_0 = 0$. It holds\n",
    "\n",
    "$$\n",
    "    y_t = v_0 t + \\frac{1}{2} a t^2 + \\varepsilon_t, \\qquad \\text{iid}\\quad \\varepsilon_t \\sim \\mathcal{N}(0, \\sigma^2).\n",
    "$$\n",
    "\n",
    "We will model this sequentially, i.e., at time instants $t=1, t=2, \\ldots$, when we incorporate new measurement $y_t$ and regressor $x_t$ into the prior. We aim to estimate:\n",
    "- $\\beta = [\\beta_1, \\beta_2]^\\intercal = [v_0, a]$ - regression coefficients,\n",
    "- $\\sigma^2$ - noise variance.\n",
    "\n",
    "Since we assume the noise to be normally distributed, the model is normal too,\n",
    "\n",
    "$$\n",
    "y_t \\sim \\mathcal{N}(\\beta^\\intercal x_t, \\sigma^2).\n",
    "$$\n",
    "\n",
    "We will use the conjugate *normal inverse-gamma* prior distribution (why?)."
   ]
  },
  {
   "cell_type": "code",
   "execution_count": null,
   "metadata": {},
   "outputs": [],
   "source": [
    "import sys\n",
    "sys.path.insert(0, '../zdrojaky')\n",
    "\n",
    "import numpy as np\n",
    "import matplotlib.pylab as plt\n",
    "from nig import NiG                        # NiG prior class"
   ]
  },
  {
   "cell_type": "markdown",
   "metadata": {},
   "source": [
    "We load the data and **need to determine their number**."
   ]
  },
  {
   "cell_type": "code",
   "execution_count": null,
   "metadata": {},
   "outputs": [],
   "source": [
    "y = np.load('c1-tracking.npz')['y']\n",
    "\n",
    "#---------------------------------------------\n",
    "# Determine the number of measurements\n",
    "ndat = ***\n",
    "#---------------------------------------------\n",
    "print('There are {0} measurements'.format(ndat))"
   ]
  },
  {
   "cell_type": "markdown",
   "metadata": {},
   "source": [
    "Let us plot the data evolution"
   ]
  },
  {
   "cell_type": "code",
   "execution_count": null,
   "metadata": {},
   "outputs": [],
   "source": [
    "plt.plot(y)\n",
    "plt.show()"
   ]
  },
  {
   "cell_type": "markdown",
   "metadata": {},
   "source": [
    "Sequential estimation follows. Recall that\n",
    "\n",
    "$$\n",
    "y_t = v_0 t + \\frac{1}{2} a t^2 + \\varepsilon_t =\n",
    "\\underbrace{\n",
    "\\begin{bmatrix}\n",
    "v_0 \\\\\n",
    "a\n",
    "\\end{bmatrix}^\\intercal\n",
    "}_{\\beta^\\intercal}\n",
    "\\underbrace{\n",
    "\\begin{bmatrix}\n",
    "t \\\\\n",
    "\\frac{1}{2}t^2\n",
    "\\end{bmatrix}\n",
    "}_{x_t}\n",
    "+ \\varepsilon_t.\n",
    "$$"
   ]
  },
  {
   "cell_type": "code",
   "execution_count": null,
   "metadata": {},
   "outputs": [],
   "source": [
    "xi0 = np.diag([10000, .1, .1])   # Prior xi_0\n",
    "nu0 = 5.                         # Prior nu_0\n",
    "regmodel = NiG(xi0, nu0)         # NiG object\n",
    "\n",
    "for t in range(ndat):\n",
    "    yt = y[t]\n",
    "    ##############################################\n",
    "    # x_t should be a correct regressor\n",
    "    # (recall, python indexes from 0 while\n",
    "    # in physics t=1,2,...\n",
    "    xt = np.array([***, ***])\n",
    "    ##############################################\n",
    "    \n",
    "    regmodel.update(yt, xt)      # update of the prior\n",
    "    regmodel.log()               # logging"
   ]
  },
  {
   "cell_type": "markdown",
   "metadata": {},
   "source": [
    "The posterior estimates are:"
   ]
  },
  {
   "cell_type": "code",
   "execution_count": null,
   "metadata": {},
   "outputs": [],
   "source": [
    "print('Final estimate of beta: ', regmodel.Ebeta)\n",
    "print('Final estimate of sigma2: ', regmodel.Esigma2)\n",
    "print('Var(beta): ', regmodel.var_beta)\n",
    "print('Var(sigma2): ', regmodel.var_sigma2)"
   ]
  },
  {
   "cell_type": "markdown",
   "metadata": {},
   "source": [
    "Plot the estimates. **Try to modify so that it plots the steady state.**"
   ]
  },
  {
   "cell_type": "code",
   "execution_count": null,
   "metadata": {},
   "outputs": [],
   "source": [
    "Ebeta_log = np.array(regmodel.Ebeta_log)\n",
    "std_beta_log = np.array(regmodel.var_beta_log)\n",
    "\n",
    "plt.figure(figsize=(15,5))\n",
    "plt.subplot(211)\n",
    "plt.plot(Ebeta_log[:, 0])\n",
    "plt.fill_between(np.arange(ndat),\n",
    "                 Ebeta_log[:, 0] + 3 * std_beta_log[:, 0],\n",
    "                 Ebeta_log[:, 0] - 3 * std_beta_log[:, 0],\n",
    "                 color='whitesmoke'\n",
    "                 )\n",
    "plt.ylim(-40, 40)\n",
    "\n",
    "plt.subplot(212)\n",
    "plt.plot(Ebeta_log[:, 1])\n",
    "plt.fill_between(np.arange(ndat),\n",
    "                 Ebeta_log[:, 1] + 3 * std_beta_log[:, 1],\n",
    "                 Ebeta_log[:, 1] - 3 * std_beta_log[:, 1],\n",
    "                 color='whitesmoke'\n",
    "                 )\n",
    "plt.ylim(-40, 40)\n",
    "plt.show()"
   ]
  },
  {
   "cell_type": "code",
   "execution_count": null,
   "metadata": {},
   "outputs": [],
   "source": [
    "std_sigma2_log = np.sqrt(np.array(regmodel.var_sigma2_log))\n",
    "\n",
    "plt.figure(figsize=(15, 3))\n",
    "plt.plot(regmodel.Esigma2_log)\n",
    "plt.fill_between(np.arange(ndat),\n",
    "                 np.array(regmodel.Esigma2_log) + 3. * std_sigma2_log,\n",
    "                 np.array(regmodel.Esigma2_log) - 3. * std_sigma2_log,\n",
    "                 color='whitesmoke'\n",
    "                 )\n",
    "plt.ylim(-2500, 2500)"
   ]
  }
 ],
 "metadata": {
  "kernelspec": {
   "display_name": "Python 3",
   "language": "python",
   "name": "python3"
  },
  "language_info": {
   "codemirror_mode": {
    "name": "ipython",
    "version": 3
   },
   "file_extension": ".py",
   "mimetype": "text/x-python",
   "name": "python",
   "nbconvert_exporter": "python",
   "pygments_lexer": "ipython3",
   "version": "3.6.5"
  }
 },
 "nbformat": 4,
 "nbformat_minor": 2
}
